{
 "cells": [
  {
   "cell_type": "code",
   "execution_count": 12,
   "metadata": {},
   "outputs": [],
   "source": [
    "import numpy as np\n",
    "import pandas as pd"
   ]
  },
  {
   "cell_type": "markdown",
   "metadata": {},
   "source": [
    "### Numpy"
   ]
  },
  {
   "cell_type": "markdown",
   "metadata": {},
   "source": [
    "#### 1. Создание массивов"
   ]
  },
  {
   "cell_type": "code",
   "execution_count": 13,
   "metadata": {},
   "outputs": [
    {
     "name": "stdout",
     "output_type": "stream",
     "text": [
      "arr1: [1 2 3 4 5]\n",
      "arr2:\n",
      " [[1 2 3]\n",
      " [4 5 6]]\n",
      "arr2.shape: (2, 3)\n"
     ]
    }
   ],
   "source": [
    "# Создание массива из списка\n",
    "l = [1, 2, 3, 4, 5]\n",
    "arr1 = np.array(l)\n",
    "\n",
    "# Создание двумерного массива\n",
    "arr2 = np.array([[1, 2, 3], [4, 5, 6]])\n",
    "\n",
    "print(\"arr1:\", arr1)\n",
    "print(\"arr2:\\n\", arr2)\n",
    "print('arr2.shape:', arr2.shape)"
   ]
  },
  {
   "cell_type": "code",
   "execution_count": 14,
   "metadata": {},
   "outputs": [
    {
     "name": "stdout",
     "output_type": "stream",
     "text": [
      "len: 2 -- количество элементов по первой оси. \n",
      "size: 6 -- всего элементов в матрице. \n",
      "ndim: 2 -- размерность матрицы. \n",
      "shape: (2, 3) -- количество элементов по каждой оси.\n"
     ]
    }
   ],
   "source": [
    "print(\"len:\", len(arr2), \"-- количество элементов по первой оси.\",\n",
    "      \"\\nsize:\", arr2.size, \"-- всего элементов в матрице.\",\n",
    "      \"\\nndim:\", arr2.ndim, \"-- размерность матрицы.\",\n",
    "      \"\\nshape:\", arr2.shape, \"-- количество элементов по каждой оси.\")"
   ]
  },
  {
   "cell_type": "code",
   "execution_count": 15,
   "metadata": {},
   "outputs": [
    {
     "name": "stdout",
     "output_type": "stream",
     "text": [
      "zeros:\n",
      " [[0. 0. 0. 0.]\n",
      " [0. 0. 0. 0.]\n",
      " [0. 0. 0. 0.]]\n",
      "ones:\n",
      " [[1. 1. 1.]\n",
      " [1. 1. 1.]]\n"
     ]
    }
   ],
   "source": [
    "# Создание массива с нулями\n",
    "zeros = np.zeros((3, 4))\n",
    "\n",
    "# Создание массива с единицами\n",
    "ones = np.ones((2, 3))\n",
    "\n",
    "print(\"zeros:\\n\", zeros)\n",
    "print(\"ones:\\n\", ones)"
   ]
  },
  {
   "cell_type": "code",
   "execution_count": 16,
   "metadata": {},
   "outputs": [
    {
     "name": "stdout",
     "output_type": "stream",
     "text": [
      "range_arr: [0 2 4 6 8]\n",
      "random_arr:\n",
      " [[0.03425597 0.28778721 0.08817966]\n",
      " [0.98784688 0.2638973  0.87277304]\n",
      " [0.34489747 0.53624586 0.09620135]]\n"
     ]
    }
   ],
   "source": [
    "# Создание массива с заданным шагом\n",
    "range_arr = np.arange(0, 10, 2)\n",
    "\n",
    "# Создание массива случайных чисел\n",
    "random_arr = np.random.rand(3, 3)\n",
    "\n",
    "print(\"range_arr:\", range_arr)\n",
    "print(\"random_arr:\\n\", random_arr)"
   ]
  },
  {
   "cell_type": "code",
   "execution_count": 17,
   "metadata": {},
   "outputs": [
    {
     "name": "stdout",
     "output_type": "stream",
     "text": [
      "[ 1.          5.66666667 10.33333333 15.        ]\n",
      "[ 5.          5.77777778  6.55555556  7.33333333  8.11111111  8.88888889\n",
      "  9.66666667 10.44444444 11.22222222 12.        ]\n"
     ]
    }
   ],
   "source": [
    "a = np.linspace(1, 15, 4)\n",
    "b = np.linspace(5, 12, 10)\n",
    "print(a)\n",
    "print(b)"
   ]
  },
  {
   "cell_type": "markdown",
   "metadata": {},
   "source": [
    "#### 2. Операции с массивами"
   ]
  },
  {
   "cell_type": "code",
   "execution_count": 18,
   "metadata": {},
   "outputs": [
    {
     "name": "stdout",
     "output_type": "stream",
     "text": [
      "a + b = [5 7 9]\n",
      "a * b = [ 4 10 18]\n",
      "a ** 2 = [1 4 9]\n"
     ]
    }
   ],
   "source": [
    "# Арифметические операции\n",
    "a = np.array([1, 2, 3])\n",
    "b = np.array([4, 5, 6])\n",
    "\n",
    "print(\"a + b =\", a + b)\n",
    "print(\"a * b =\", a * b)\n",
    "print(\"a ** 2 =\", a ** 2)"
   ]
  },
  {
   "cell_type": "code",
   "execution_count": 19,
   "metadata": {},
   "outputs": [
    {
     "name": "stdout",
     "output_type": "stream",
     "text": [
      "Среднее значение a: 2.0\n",
      "Стандартное отклонение b: 0.816496580927726\n",
      "Сумма элементов a: 6\n"
     ]
    }
   ],
   "source": [
    "# Статистические функции\n",
    "print(\"Среднее значение a:\", np.mean(a))\n",
    "print(\"Стандартное отклонение b:\", np.std(b))\n",
    "print(\"Сумма элементов a:\", np.sum(a))"
   ]
  },
  {
   "cell_type": "code",
   "execution_count": 20,
   "metadata": {},
   "outputs": [
    {
     "name": "stdout",
     "output_type": "stream",
     "text": [
      "Умножение матриц:\n",
      " [[19 22]\n",
      " [43 50]]\n",
      "Транспонирование m2:\n",
      " [[5 7]\n",
      " [6 8]]\n",
      "Умножение матриц:\n",
      " [[17 23]\n",
      " [39 53]]\n"
     ]
    }
   ],
   "source": [
    "# Операции с матрицами\n",
    "m1 = np.array([[1, 2], [3, 4]])\n",
    "m2 = np.array([[5, 6], [7, 8]])\n",
    "\n",
    "print(\"Умножение матриц:\\n\", np.dot(m1, m2))\n",
    "print(\"Транспонирование m2:\\n\", m2.T)\n",
    "print(\"Умножение матриц:\\n\", np.dot(m1, m2.T))"
   ]
  },
  {
   "cell_type": "markdown",
   "metadata": {},
   "source": [
    "#### 3. Индексация"
   ]
  },
  {
   "cell_type": "code",
   "execution_count": 21,
   "metadata": {},
   "outputs": [
    {
     "name": "stdout",
     "output_type": "stream",
     "text": [
      "arr:\n",
      " [[ 1  2  3  4]\n",
      " [ 5  6  7  8]\n",
      " [ 9 10 11 12]]\n",
      "Первая строка: [1 2 3 4]\n",
      "Второй столбец: [ 2  6 10]\n",
      "Подмассив:\n",
      " [[ 2  3]\n",
      " [ 6  7]\n",
      " [10 11]]\n"
     ]
    }
   ],
   "source": [
    "arr = np.array([[1, 2, 3, 4], \n",
    "                [5, 6, 7, 8], \n",
    "                [9, 10, 11, 12]])\n",
    "\n",
    "print(\"arr:\\n\", arr)\n",
    "print(\"Первая строка:\", arr[0])\n",
    "print(\"Второй столбец:\", arr[:, 1])\n",
    "print(\"Подмассив:\\n\", arr[0:3, 1:3])\n"
   ]
  },
  {
   "cell_type": "code",
   "execution_count": null,
   "metadata": {},
   "outputs": [],
   "source": []
  },
  {
   "cell_type": "code",
   "execution_count": 22,
   "metadata": {},
   "outputs": [
    {
     "name": "stdout",
     "output_type": "stream",
     "text": [
      "Условная индексация: []\n"
     ]
    },
    {
     "ename": "IndexError",
     "evalue": "boolean index did not match indexed array along axis 0; size of axis is 3 but size of corresponding boolean axis is 5",
     "output_type": "error",
     "traceback": [
      "\u001b[31m---------------------------------------------------------------------------\u001b[39m",
      "\u001b[31mIndexError\u001b[39m                                Traceback (most recent call last)",
      "\u001b[36mCell\u001b[39m\u001b[36m \u001b[39m\u001b[32mIn[22]\u001b[39m\u001b[32m, line 8\u001b[39m\n\u001b[32m      6\u001b[39m \u001b[38;5;66;03m# Индексация с помощью массива булевых значений\u001b[39;00m\n\u001b[32m      7\u001b[39m mask = np.array([\u001b[38;5;28;01mTrue\u001b[39;00m, \u001b[38;5;28;01mFalse\u001b[39;00m, \u001b[38;5;28;01mTrue\u001b[39;00m, \u001b[38;5;28;01mFalse\u001b[39;00m, \u001b[38;5;28;01mTrue\u001b[39;00m])\n\u001b[32m----> \u001b[39m\u001b[32m8\u001b[39m \u001b[38;5;28mprint\u001b[39m(\u001b[33m\"\u001b[39m\u001b[33mИндексация с маской:\u001b[39m\u001b[33m\"\u001b[39m, \u001b[43marr\u001b[49m\u001b[43m[\u001b[49m\u001b[43mmask\u001b[49m\u001b[43m]\u001b[49m)\n",
      "\u001b[31mIndexError\u001b[39m: boolean index did not match indexed array along axis 0; size of axis is 3 but size of corresponding boolean axis is 5"
     ]
    }
   ],
   "source": [
    "# Indexing\n",
    "# Условная индексация\n",
    "condition = arr > 25\n",
    "print(\"Условная индексация:\", arr[condition])\n",
    "\n",
    "# Индексация с помощью массива булевых значений\n",
    "mask = np.array([True, False, True, False, True])\n",
    "print(\"Индексация с маской:\", arr[mask])"
   ]
  },
  {
   "cell_type": "code",
   "execution_count": null,
   "metadata": {},
   "outputs": [
    {
     "name": "stdout",
     "output_type": "stream",
     "text": [
      "Измененная форма:\n",
      " [[ 1  2  3  4  5  6]\n",
      " [ 7  8  9 10 11 12]]\n",
      "reshaped.shape (2, 6)\n"
     ]
    }
   ],
   "source": [
    "# Изменение формы\n",
    "reshaped = arr.reshape(2, -1)\n",
    "print(\"Измененная форма:\\n\", reshaped)\n",
    "print('reshaped.shape', reshaped.shape)"
   ]
  },
  {
   "cell_type": "code",
   "execution_count": null,
   "metadata": {},
   "outputs": [
    {
     "data": {
      "text/plain": [
       "array([[ 1,  2,  3,  4],\n",
       "       [ 5,  6,  7,  8],\n",
       "       [ 9, 10, 11, 12]])"
      ]
     },
     "execution_count": 52,
     "metadata": {},
     "output_type": "execute_result"
    }
   ],
   "source": [
    "#Sorting\n",
    "sorted_arr = np.sort(arr)\n",
    "sorted_arr"
   ]
  },
  {
   "cell_type": "code",
   "execution_count": null,
   "metadata": {},
   "outputs": [],
   "source": []
  },
  {
   "cell_type": "code",
   "execution_count": null,
   "metadata": {},
   "outputs": [
    {
     "name": "stdout",
     "output_type": "stream",
     "text": [
      "arr_2d\n",
      " [[1 2 3]\n",
      " [4 5 6]]\n",
      "Сумма по строкам: [ 6 15]\n",
      "Сумма по столбцам: [5 7 9]\n",
      "Вертикальная конкатенация:\n",
      " [[1 2]\n",
      " [3 4]\n",
      " [5 6]]\n",
      "Горизонтальная конкатенация:\n",
      " [[1 2 5]\n",
      " [3 4 6]]\n"
     ]
    }
   ],
   "source": [
    "# Суммирование по осям\n",
    "arr_2d = np.array([[1, 2, 3], [4, 5, 6]])\n",
    "\n",
    "print(\"Сумма по строкам:\", np.sum(arr_2d, axis=1))\n",
    "print(\"Сумма по столбцам:\", np.sum(arr_2d, axis=0))\n"
   ]
  },
  {
   "cell_type": "code",
   "execution_count": 23,
   "metadata": {},
   "outputs": [
    {
     "name": "stdout",
     "output_type": "stream",
     "text": [
      "Вертикальная конкатенация:\n",
      " [[1 2]\n",
      " [3 4]\n",
      " [5 6]]\n",
      "Горизонтальная конкатенация:\n",
      " [[1 2 5]\n",
      " [3 4 6]]\n"
     ]
    }
   ],
   "source": [
    "# Конкатенация массивов\n",
    "\n",
    "a = np.array([[1, 2], [3, 4]])\n",
    "b = np.array([[5, 6]])\n",
    "print(\"Вертикальная конкатенация:\\n\", np.concatenate((a, b), axis=0))\n",
    "print(\"Горизонтальная конкатенация:\\n\", np.concatenate((a, b.T), axis=1))"
   ]
  },
  {
   "cell_type": "code",
   "execution_count": null,
   "metadata": {},
   "outputs": [],
   "source": []
  },
  {
   "cell_type": "code",
   "execution_count": 24,
   "metadata": {},
   "outputs": [
    {
     "data": {
      "text/plain": [
       "array([[1, 2, 5, 6, 7],\n",
       "       [3, 4, 7, 8, 9]])"
      ]
     },
     "execution_count": 24,
     "metadata": {},
     "output_type": "execute_result"
    }
   ],
   "source": [
    "c = np.array([[5, 6, 7], [7, 8, 9]])\n",
    "np.concatenate((a, c), axis=1)"
   ]
  },
  {
   "cell_type": "code",
   "execution_count": 25,
   "metadata": {},
   "outputs": [
    {
     "name": "stdout",
     "output_type": "stream",
     "text": [
      "Абсолютные значения: [4 2 3 2 4]\n",
      " \n",
      "Экспонента: [1.83156389e-02 1.35335283e-01 2.00855369e+01 7.38905610e+00\n",
      " 5.45981500e+01]\n",
      " \n",
      "Логарифм: [1.38629436 0.69314718 1.09861229 0.69314718 1.38629436]\n"
     ]
    }
   ],
   "source": [
    "# Применение функций к каждому элементу\n",
    "arr = np.array([-4, -2, 3, 2, 4])\n",
    "print(\"Абсолютные значения:\", np.abs(arr))\n",
    "print(\" \")\n",
    "print(\"Экспонента:\", np.exp(arr))\n",
    "print(\" \")\n",
    "print(\"Логарифм:\", np.log(np.abs(arr)))\n"
   ]
  },
  {
   "cell_type": "code",
   "execution_count": 26,
   "metadata": {},
   "outputs": [
    {
     "name": "stdout",
     "output_type": "stream",
     "text": [
      "Случайные целые числа:\n",
      " [[5 6 7]\n",
      " [8 1 4]\n",
      " [0 0 1]]\n",
      "Среднее нормального распределения: 0.002297901230012968\n",
      "Стандартное отклонение: 0.9815455108798011\n",
      "Минимум равномерного распределения: 4.785730837242319e-05\n",
      "Максимум: 0.9985943196324188\n"
     ]
    }
   ],
   "source": [
    "# Генерация случайных чисел\n",
    "random_ints = np.random.randint(0, 10, size=(3, 3))\n",
    "print(\"Случайные целые числа:\\n\", random_ints)\n",
    "\n",
    "# Нормальное распределение\n",
    "normal_dist = np.random.normal(loc=0, scale=1, size=(1000,))\n",
    "print(\"Среднее нормального распределения:\", np.mean(normal_dist))\n",
    "print(\"Стандартное отклонение:\", np.std(normal_dist))\n",
    "\n",
    "# Равномерное распределение\n",
    "uniform_dist = np.random.uniform(low=0, high=1, size=(1000,))\n",
    "print(\"Минимум равномерного распределения:\", np.min(uniform_dist))\n",
    "print(\"Максимум:\", np.max(uniform_dist))"
   ]
  },
  {
   "cell_type": "code",
   "execution_count": 27,
   "metadata": {},
   "outputs": [
    {
     "name": "stdout",
     "output_type": "stream",
     "text": [
      "Массив с NaN: [ 1.  2. nan  4.  5.]\n",
      "Есть ли NaN? [False False  True False False]\n"
     ]
    }
   ],
   "source": [
    "# Создание массива с пропущенными значениями\n",
    "arr_with_nan = np.array([1, 2, np.nan, 4, 5])\n",
    "print(\"Массив с NaN:\", arr_with_nan)\n",
    "\n",
    "# Проверка на NaN\n",
    "print(\"Есть ли NaN?\", np.isnan(arr_with_nan))\n"
   ]
  },
  {
   "cell_type": "code",
   "execution_count": 28,
   "metadata": {},
   "outputs": [
    {
     "name": "stdout",
     "output_type": "stream",
     "text": [
      "Массив после замены NaN: [1. 2. 3. 4. 5.]\n"
     ]
    }
   ],
   "source": [
    "# Замена NaN на среднее значение\n",
    "mean_value = np.nanmean(arr_with_nan)\n",
    "arr_without_nan = np.where(np.isnan(arr_with_nan), mean_value, arr_with_nan)\n",
    "print(\"Массив после замены NaN:\", arr_without_nan)"
   ]
  },
  {
   "cell_type": "code",
   "execution_count": null,
   "metadata": {},
   "outputs": [],
   "source": []
  },
  {
   "cell_type": "code",
   "execution_count": null,
   "metadata": {},
   "outputs": [],
   "source": []
  },
  {
   "cell_type": "markdown",
   "metadata": {},
   "source": []
  }
 ],
 "metadata": {
  "kernelspec": {
   "display_name": "Python 3",
   "language": "python",
   "name": "python3"
  },
  "language_info": {
   "codemirror_mode": {
    "name": "ipython",
    "version": 3
   },
   "file_extension": ".py",
   "mimetype": "text/x-python",
   "name": "python",
   "nbconvert_exporter": "python",
   "pygments_lexer": "ipython3",
   "version": "3.13.0"
  }
 },
 "nbformat": 4,
 "nbformat_minor": 4
}
