{
 "cells": [
  {
   "cell_type": "markdown",
   "metadata": {},
   "source": [
    "## Работа с данными. EDA"
   ]
  },
  {
   "cell_type": "markdown",
   "metadata": {},
   "source": [
    "## Загрузка и первичный осмотр данных"
   ]
  },
  {
   "cell_type": "markdown",
   "metadata": {},
   "source": [
    "Подгрузка библиотек\n",
    "\n"
   ]
  },
  {
   "cell_type": "code",
   "execution_count": 13,
   "metadata": {},
   "outputs": [],
   "source": [
    "import pandas as pd\n",
    "import numpy as np\n",
    "\n",
    "import matplotlib.pyplot as plt\n",
    "%matplotlib inline\n",
    "\n",
    "import seaborn as sns"
   ]
  },
  {
   "cell_type": "markdown",
   "metadata": {},
   "source": [
    "#### Pandas Series\n",
    "\n",
    "Одной из основных структур данных в библиотеке Pandas является Pandas Series. Элемент Pandas Series похож на столбец в таблице: это одномерный массив, содержащий данные любого типа.\n",
    "\n",
    "Элементы Pandas Series помечаются номерами индексов. Первое значение имеет индекс 0, второе - индекс 1 и т. д.\n",
    "\n",
    "Заведем столбец Series из обычного питоновского массива:"
   ]
  },
  {
   "cell_type": "code",
   "execution_count": 14,
   "metadata": {},
   "outputs": [
    {
     "data": {
      "text/plain": [
       "0    1\n",
       "1    7\n",
       "2    2\n",
       "dtype: int64"
      ]
     },
     "execution_count": 14,
     "metadata": {},
     "output_type": "execute_result"
    }
   ],
   "source": [
    "a = [1, 7, 2]\n",
    "\n",
    "series = pd.Series(a)\n",
    "\n",
    "series"
   ]
  },
  {
   "cell_type": "markdown",
   "metadata": {},
   "source": [
    "#### Dataframe "
   ]
  },
  {
   "cell_type": "markdown",
   "metadata": {},
   "source": [
    "Pandas DataFrame - это двумерная структура данных, подобная двумерному массиву или таблице со строками и столбцами. Иными словами, Pandas Series - это один столбец таблицы, а DataFrame - это вся таблица."
   ]
  },
  {
   "cell_type": "code",
   "execution_count": 15,
   "metadata": {},
   "outputs": [
    {
     "data": {
      "text/html": [
       "<div>\n",
       "<style scoped>\n",
       "    .dataframe tbody tr th:only-of-type {\n",
       "        vertical-align: middle;\n",
       "    }\n",
       "\n",
       "    .dataframe tbody tr th {\n",
       "        vertical-align: top;\n",
       "    }\n",
       "\n",
       "    .dataframe thead th {\n",
       "        text-align: right;\n",
       "    }\n",
       "</style>\n",
       "<table border=\"1\" class=\"dataframe\">\n",
       "  <thead>\n",
       "    <tr style=\"text-align: right;\">\n",
       "      <th></th>\n",
       "      <th>calories</th>\n",
       "      <th>duration</th>\n",
       "      <th>weight</th>\n",
       "    </tr>\n",
       "  </thead>\n",
       "  <tbody>\n",
       "    <tr>\n",
       "      <th>0</th>\n",
       "      <td>420</td>\n",
       "      <td>50</td>\n",
       "      <td>60</td>\n",
       "    </tr>\n",
       "    <tr>\n",
       "      <th>1</th>\n",
       "      <td>380</td>\n",
       "      <td>40</td>\n",
       "      <td>65</td>\n",
       "    </tr>\n",
       "    <tr>\n",
       "      <th>2</th>\n",
       "      <td>390</td>\n",
       "      <td>45</td>\n",
       "      <td>80</td>\n",
       "    </tr>\n",
       "  </tbody>\n",
       "</table>\n",
       "</div>"
      ],
      "text/plain": [
       "   calories  duration  weight\n",
       "0       420        50      60\n",
       "1       380        40      65\n",
       "2       390        45      80"
      ]
     },
     "execution_count": 15,
     "metadata": {},
     "output_type": "execute_result"
    }
   ],
   "source": [
    "data = {\n",
    "  \"calories\": [420, 380, 390],\n",
    "  \"duration\": [50, 40, 45], \n",
    "  \"weight\": [60, 65, 80]\n",
    "}\n",
    "\n",
    "# можно создать таблицу из Python Dict\n",
    "# keys словаря будут названиями столбцов\n",
    "df = pd.DataFrame(data)\n",
    "df"
   ]
  },
  {
   "cell_type": "code",
   "execution_count": 16,
   "metadata": {},
   "outputs": [
    {
     "data": {
      "text/plain": [
       "0    420\n",
       "1    380\n",
       "2    390\n",
       "Name: calories, dtype: int64"
      ]
     },
     "execution_count": 16,
     "metadata": {},
     "output_type": "execute_result"
    }
   ],
   "source": [
    "df['calories']"
   ]
  },
  {
   "cell_type": "code",
   "execution_count": 17,
   "metadata": {},
   "outputs": [
    {
     "data": {
      "text/plain": [
       "np.int64(40)"
      ]
     },
     "execution_count": 17,
     "metadata": {},
     "output_type": "execute_result"
    }
   ],
   "source": [
    "df.loc[1, \"duration\"]"
   ]
  },
  {
   "cell_type": "code",
   "execution_count": 18,
   "metadata": {},
   "outputs": [
    {
     "data": {
      "text/plain": [
       "np.int64(65)"
      ]
     },
     "execution_count": 18,
     "metadata": {},
     "output_type": "execute_result"
    }
   ],
   "source": [
    "df.iloc[1, 2]"
   ]
  },
  {
   "cell_type": "markdown",
   "metadata": {},
   "source": [
    "### Работа с реальными данными (EDA)"
   ]
  },
  {
   "cell_type": "code",
   "execution_count": 19,
   "metadata": {},
   "outputs": [
    {
     "name": "stdout",
     "output_type": "stream",
     "text": [
      "<class 'pandas.core.frame.DataFrame'>\n",
      "RangeIndex: 51525 entries, 0 to 51524\n",
      "Data columns (total 12 columns):\n",
      " #   Column        Non-Null Count  Dtype  \n",
      "---  ------        --------------  -----  \n",
      " 0   price         51525 non-null  int64  \n",
      " 1   model_year    47906 non-null  float64\n",
      " 2   model         51525 non-null  object \n",
      " 3   condition     51525 non-null  object \n",
      " 4   cylinders     46265 non-null  float64\n",
      " 5   fuel          51525 non-null  object \n",
      " 6   odometer      43633 non-null  float64\n",
      " 7   transmission  51525 non-null  object \n",
      " 8   type          51525 non-null  object \n",
      " 9   paint_color   42258 non-null  object \n",
      " 10  date_posted   51525 non-null  object \n",
      " 11  days_listed   51525 non-null  int64  \n",
      "dtypes: float64(3), int64(2), object(7)\n",
      "memory usage: 4.7+ MB\n"
     ]
    }
   ],
   "source": [
    "## Подгрузка данных\n",
    "\n",
    "df = pd.read_csv('vehicles_us.csv')\n",
    "df.info()"
   ]
  },
  {
   "cell_type": "code",
   "execution_count": 20,
   "metadata": {},
   "outputs": [
    {
     "data": {
      "text/plain": [
       "Index(['price', 'model_year', 'model', 'condition', 'cylinders', 'fuel',\n",
       "       'odometer', 'transmission', 'type', 'paint_color', 'date_posted',\n",
       "       'days_listed'],\n",
       "      dtype='object')"
      ]
     },
     "execution_count": 20,
     "metadata": {},
     "output_type": "execute_result"
    }
   ],
   "source": [
    "df.columns"
   ]
  },
  {
   "cell_type": "code",
   "execution_count": 21,
   "metadata": {},
   "outputs": [
    {
     "data": {
      "text/html": [
       "<div>\n",
       "<style scoped>\n",
       "    .dataframe tbody tr th:only-of-type {\n",
       "        vertical-align: middle;\n",
       "    }\n",
       "\n",
       "    .dataframe tbody tr th {\n",
       "        vertical-align: top;\n",
       "    }\n",
       "\n",
       "    .dataframe thead th {\n",
       "        text-align: right;\n",
       "    }\n",
       "</style>\n",
       "<table border=\"1\" class=\"dataframe\">\n",
       "  <thead>\n",
       "    <tr style=\"text-align: right;\">\n",
       "      <th></th>\n",
       "      <th>price</th>\n",
       "      <th>model_year</th>\n",
       "      <th>model</th>\n",
       "      <th>condition</th>\n",
       "      <th>cylinders</th>\n",
       "      <th>fuel</th>\n",
       "      <th>odometer</th>\n",
       "      <th>transmission</th>\n",
       "      <th>type</th>\n",
       "      <th>paint_color</th>\n",
       "      <th>date_posted</th>\n",
       "      <th>days_listed</th>\n",
       "    </tr>\n",
       "  </thead>\n",
       "  <tbody>\n",
       "    <tr>\n",
       "      <th>0</th>\n",
       "      <td>9400</td>\n",
       "      <td>2011.0</td>\n",
       "      <td>bmw x5</td>\n",
       "      <td>good</td>\n",
       "      <td>6.0</td>\n",
       "      <td>gas</td>\n",
       "      <td>145000.0</td>\n",
       "      <td>automatic</td>\n",
       "      <td>SUV</td>\n",
       "      <td>NaN</td>\n",
       "      <td>2018-06-23</td>\n",
       "      <td>19</td>\n",
       "    </tr>\n",
       "    <tr>\n",
       "      <th>1</th>\n",
       "      <td>25500</td>\n",
       "      <td>NaN</td>\n",
       "      <td>ford f-150</td>\n",
       "      <td>good</td>\n",
       "      <td>6.0</td>\n",
       "      <td>gas</td>\n",
       "      <td>88705.0</td>\n",
       "      <td>automatic</td>\n",
       "      <td>pickup</td>\n",
       "      <td>white</td>\n",
       "      <td>2018-10-19</td>\n",
       "      <td>50</td>\n",
       "    </tr>\n",
       "    <tr>\n",
       "      <th>2</th>\n",
       "      <td>5500</td>\n",
       "      <td>2013.0</td>\n",
       "      <td>hyundai sonata</td>\n",
       "      <td>like new</td>\n",
       "      <td>4.0</td>\n",
       "      <td>gas</td>\n",
       "      <td>110000.0</td>\n",
       "      <td>automatic</td>\n",
       "      <td>sedan</td>\n",
       "      <td>red</td>\n",
       "      <td>2019-02-07</td>\n",
       "      <td>79</td>\n",
       "    </tr>\n",
       "    <tr>\n",
       "      <th>3</th>\n",
       "      <td>1500</td>\n",
       "      <td>2003.0</td>\n",
       "      <td>ford f-150</td>\n",
       "      <td>fair</td>\n",
       "      <td>8.0</td>\n",
       "      <td>gas</td>\n",
       "      <td>NaN</td>\n",
       "      <td>automatic</td>\n",
       "      <td>pickup</td>\n",
       "      <td>NaN</td>\n",
       "      <td>2019-03-22</td>\n",
       "      <td>9</td>\n",
       "    </tr>\n",
       "    <tr>\n",
       "      <th>4</th>\n",
       "      <td>14900</td>\n",
       "      <td>2017.0</td>\n",
       "      <td>chrysler 200</td>\n",
       "      <td>excellent</td>\n",
       "      <td>4.0</td>\n",
       "      <td>gas</td>\n",
       "      <td>80903.0</td>\n",
       "      <td>automatic</td>\n",
       "      <td>sedan</td>\n",
       "      <td>black</td>\n",
       "      <td>2019-04-02</td>\n",
       "      <td>28</td>\n",
       "    </tr>\n",
       "  </tbody>\n",
       "</table>\n",
       "</div>"
      ],
      "text/plain": [
       "   price  model_year           model  condition  cylinders fuel  odometer  \\\n",
       "0   9400      2011.0          bmw x5       good        6.0  gas  145000.0   \n",
       "1  25500         NaN      ford f-150       good        6.0  gas   88705.0   \n",
       "2   5500      2013.0  hyundai sonata   like new        4.0  gas  110000.0   \n",
       "3   1500      2003.0      ford f-150       fair        8.0  gas       NaN   \n",
       "4  14900      2017.0    chrysler 200  excellent        4.0  gas   80903.0   \n",
       "\n",
       "  transmission    type paint_color date_posted  days_listed  \n",
       "0    automatic     SUV         NaN  2018-06-23           19  \n",
       "1    automatic  pickup       white  2018-10-19           50  \n",
       "2    automatic   sedan         red  2019-02-07           79  \n",
       "3    automatic  pickup         NaN  2019-03-22            9  \n",
       "4    automatic   sedan       black  2019-04-02           28  "
      ]
     },
     "execution_count": 21,
     "metadata": {},
     "output_type": "execute_result"
    }
   ],
   "source": [
    "df.head()"
   ]
  },
  {
   "cell_type": "markdown",
   "metadata": {},
   "source": [
    "#### 1. Чистка данных"
   ]
  },
  {
   "cell_type": "code",
   "execution_count": 22,
   "metadata": {},
   "outputs": [
    {
     "data": {
      "text/plain": [
       "paint_color     9267\n",
       "odometer        7892\n",
       "cylinders       5260\n",
       "model_year      3619\n",
       "condition          0\n",
       "model              0\n",
       "price              0\n",
       "fuel               0\n",
       "transmission       0\n",
       "type               0\n",
       "date_posted        0\n",
       "days_listed        0\n",
       "dtype: int64"
      ]
     },
     "execution_count": 22,
     "metadata": {},
     "output_type": "execute_result"
    }
   ],
   "source": [
    "# Проверка нулевых значении \n",
    "df.isnull().sum().sort_values(ascending = False)"
   ]
  },
  {
   "cell_type": "code",
   "execution_count": 23,
   "metadata": {},
   "outputs": [
    {
     "name": "stdout",
     "output_type": "stream",
     "text": [
      "2011.0\n",
      "2009.75046966977\n",
      "0    2013.0\n",
      "Name: model_year, dtype: float64\n",
      "1908.0\n",
      "2019.0\n",
      "6.282064792174014\n",
      "39.46433805307233\n"
     ]
    }
   ],
   "source": [
    "print(df.model_year.median())\n",
    "print(df.model_year.mean())\n",
    "print(df.model_year.mode())\n",
    "print(df.model_year.min())\n",
    "print(df.model_year.max())\n",
    "print(df.model_year.std())\n",
    "print(df.model_year.var())"
   ]
  },
  {
   "cell_type": "code",
   "execution_count": 24,
   "metadata": {},
   "outputs": [],
   "source": [
    "df_test = df.copy()"
   ]
  },
  {
   "cell_type": "code",
   "execution_count": 25,
   "metadata": {},
   "outputs": [
    {
     "data": {
      "text/plain": [
       "np.int64(0)"
      ]
     },
     "execution_count": 25,
     "metadata": {},
     "output_type": "execute_result"
    }
   ],
   "source": [
    "df_test['model_year'] = df_test['model_year'].fillna(df_test['model_year'].median())\n",
    "df_test[\"model_year\"].isnull().sum()"
   ]
  },
  {
   "cell_type": "code",
   "execution_count": 26,
   "metadata": {},
   "outputs": [
    {
     "data": {
      "text/plain": [
       "paint_color     9267\n",
       "odometer        7892\n",
       "cylinders       5260\n",
       "price              0\n",
       "condition          0\n",
       "model              0\n",
       "model_year         0\n",
       "fuel               0\n",
       "transmission       0\n",
       "type               0\n",
       "date_posted        0\n",
       "days_listed        0\n",
       "dtype: int64"
      ]
     },
     "execution_count": 26,
     "metadata": {},
     "output_type": "execute_result"
    }
   ],
   "source": [
    "df_test.isnull().sum().sort_values(ascending=False)"
   ]
  },
  {
   "cell_type": "code",
   "execution_count": 27,
   "metadata": {},
   "outputs": [
    {
     "data": {
      "text/plain": [
       "price           0\n",
       "model_year      0\n",
       "model           0\n",
       "condition       0\n",
       "cylinders       0\n",
       "fuel            0\n",
       "odometer        0\n",
       "transmission    0\n",
       "type            0\n",
       "paint_color     0\n",
       "date_posted     0\n",
       "days_listed     0\n",
       "dtype: int64"
      ]
     },
     "execution_count": 27,
     "metadata": {},
     "output_type": "execute_result"
    }
   ],
   "source": [
    "# Удаление всех пустых значении\n",
    "df_new = df.dropna()\n",
    "df_new.isnull().sum().sort_values(ascending=False)"
   ]
  },
  {
   "cell_type": "code",
   "execution_count": 28,
   "metadata": {},
   "outputs": [
    {
     "name": "stdout",
     "output_type": "stream",
     "text": [
      "Размер до удаления дубликатов: (29916, 12)\n",
      "Размер после удаления дубликатов: (29916, 12)\n"
     ]
    }
   ],
   "source": [
    "# Удаление дубликатов\n",
    "df_clean = df_new.drop_duplicates()\n",
    "print(f\"Размер до удаления дубликатов: {df_new.shape}\")\n",
    "print(f\"Размер после удаления дубликатов: {df_clean.shape}\")"
   ]
  },
  {
   "cell_type": "markdown",
   "metadata": {},
   "source": [
    "#### 2. Обработка данных"
   ]
  },
  {
   "cell_type": "code",
   "execution_count": 29,
   "metadata": {},
   "outputs": [
    {
     "name": "stdout",
     "output_type": "stream",
     "text": [
      "<class 'pandas.core.frame.DataFrame'>\n",
      "Index: 29916 entries, 2 to 51523\n",
      "Data columns (total 12 columns):\n",
      " #   Column        Non-Null Count  Dtype  \n",
      "---  ------        --------------  -----  \n",
      " 0   price         29916 non-null  int64  \n",
      " 1   model_year    29916 non-null  float64\n",
      " 2   model         29916 non-null  object \n",
      " 3   condition     29916 non-null  object \n",
      " 4   cylinders     29916 non-null  float64\n",
      " 5   fuel          29916 non-null  object \n",
      " 6   odometer      29916 non-null  float64\n",
      " 7   transmission  29916 non-null  object \n",
      " 8   type          29916 non-null  object \n",
      " 9   paint_color   29916 non-null  object \n",
      " 10  date_posted   29916 non-null  object \n",
      " 11  days_listed   29916 non-null  int64  \n",
      "dtypes: float64(3), int64(2), object(7)\n",
      "memory usage: 3.0+ MB\n"
     ]
    }
   ],
   "source": [
    "df_clean.info()"
   ]
  },
  {
   "cell_type": "code",
   "execution_count": 30,
   "metadata": {},
   "outputs": [],
   "source": [
    "# # Filter for vehicles posted after January 1, 2019\n",
    "# filtered_df = df[df['date_posted'] > '2019-01-01']\n",
    "\n",
    "# filtered_df"
   ]
  },
  {
   "cell_type": "code",
   "execution_count": 31,
   "metadata": {},
   "outputs": [],
   "source": [
    "# Преобразование 'model_year' в целочисленный тип\n",
    "df_clean['model_year'] = df_clean['model_year'].astype(int)"
   ]
  },
  {
   "cell_type": "code",
   "execution_count": 32,
   "metadata": {},
   "outputs": [],
   "source": [
    "# Преобразование 'date_posted' в тип datetime\n",
    "df_clean['date_posted'] = pd.to_datetime(df_clean['date_posted'])"
   ]
  },
  {
   "cell_type": "code",
   "execution_count": 33,
   "metadata": {},
   "outputs": [
    {
     "data": {
      "text/html": [
       "<div>\n",
       "<style scoped>\n",
       "    .dataframe tbody tr th:only-of-type {\n",
       "        vertical-align: middle;\n",
       "    }\n",
       "\n",
       "    .dataframe tbody tr th {\n",
       "        vertical-align: top;\n",
       "    }\n",
       "\n",
       "    .dataframe thead th {\n",
       "        text-align: right;\n",
       "    }\n",
       "</style>\n",
       "<table border=\"1\" class=\"dataframe\">\n",
       "  <thead>\n",
       "    <tr style=\"text-align: right;\">\n",
       "      <th></th>\n",
       "      <th>price</th>\n",
       "      <th>model_year</th>\n",
       "      <th>cylinders</th>\n",
       "      <th>odometer</th>\n",
       "      <th>date_posted</th>\n",
       "      <th>days_listed</th>\n",
       "    </tr>\n",
       "  </thead>\n",
       "  <tbody>\n",
       "    <tr>\n",
       "      <th>count</th>\n",
       "      <td>29916.000000</td>\n",
       "      <td>29916.000000</td>\n",
       "      <td>29916.000000</td>\n",
       "      <td>29916.000000</td>\n",
       "      <td>29916</td>\n",
       "      <td>29916.000000</td>\n",
       "    </tr>\n",
       "    <tr>\n",
       "      <th>mean</th>\n",
       "      <td>12197.222189</td>\n",
       "      <td>2009.746557</td>\n",
       "      <td>6.134343</td>\n",
       "      <td>115458.763003</td>\n",
       "      <td>2018-10-25 05:36:01.732851968</td>\n",
       "      <td>39.635446</td>\n",
       "    </tr>\n",
       "    <tr>\n",
       "      <th>min</th>\n",
       "      <td>1.000000</td>\n",
       "      <td>1908.000000</td>\n",
       "      <td>3.000000</td>\n",
       "      <td>0.000000</td>\n",
       "      <td>2018-05-01 00:00:00</td>\n",
       "      <td>0.000000</td>\n",
       "    </tr>\n",
       "    <tr>\n",
       "      <th>25%</th>\n",
       "      <td>5000.000000</td>\n",
       "      <td>2006.000000</td>\n",
       "      <td>4.000000</td>\n",
       "      <td>69840.000000</td>\n",
       "      <td>2018-07-29 18:00:00</td>\n",
       "      <td>19.000000</td>\n",
       "    </tr>\n",
       "    <tr>\n",
       "      <th>50%</th>\n",
       "      <td>9000.000000</td>\n",
       "      <td>2011.000000</td>\n",
       "      <td>6.000000</td>\n",
       "      <td>113000.000000</td>\n",
       "      <td>2018-10-25 00:00:00</td>\n",
       "      <td>33.000000</td>\n",
       "    </tr>\n",
       "    <tr>\n",
       "      <th>75%</th>\n",
       "      <td>16900.000000</td>\n",
       "      <td>2014.000000</td>\n",
       "      <td>8.000000</td>\n",
       "      <td>155115.500000</td>\n",
       "      <td>2019-01-22 00:00:00</td>\n",
       "      <td>53.000000</td>\n",
       "    </tr>\n",
       "    <tr>\n",
       "      <th>max</th>\n",
       "      <td>375000.000000</td>\n",
       "      <td>2019.000000</td>\n",
       "      <td>12.000000</td>\n",
       "      <td>990000.000000</td>\n",
       "      <td>2019-04-19 00:00:00</td>\n",
       "      <td>267.000000</td>\n",
       "    </tr>\n",
       "    <tr>\n",
       "      <th>std</th>\n",
       "      <td>10152.572328</td>\n",
       "      <td>6.274394</td>\n",
       "      <td>1.659248</td>\n",
       "      <td>65299.301405</td>\n",
       "      <td>NaN</td>\n",
       "      <td>28.106683</td>\n",
       "    </tr>\n",
       "  </tbody>\n",
       "</table>\n",
       "</div>"
      ],
      "text/plain": [
       "               price    model_year     cylinders       odometer  \\\n",
       "count   29916.000000  29916.000000  29916.000000   29916.000000   \n",
       "mean    12197.222189   2009.746557      6.134343  115458.763003   \n",
       "min         1.000000   1908.000000      3.000000       0.000000   \n",
       "25%      5000.000000   2006.000000      4.000000   69840.000000   \n",
       "50%      9000.000000   2011.000000      6.000000  113000.000000   \n",
       "75%     16900.000000   2014.000000      8.000000  155115.500000   \n",
       "max    375000.000000   2019.000000     12.000000  990000.000000   \n",
       "std     10152.572328      6.274394      1.659248   65299.301405   \n",
       "\n",
       "                         date_posted   days_listed  \n",
       "count                          29916  29916.000000  \n",
       "mean   2018-10-25 05:36:01.732851968     39.635446  \n",
       "min              2018-05-01 00:00:00      0.000000  \n",
       "25%              2018-07-29 18:00:00     19.000000  \n",
       "50%              2018-10-25 00:00:00     33.000000  \n",
       "75%              2019-01-22 00:00:00     53.000000  \n",
       "max              2019-04-19 00:00:00    267.000000  \n",
       "std                              NaN     28.106683  "
      ]
     },
     "execution_count": 33,
     "metadata": {},
     "output_type": "execute_result"
    }
   ],
   "source": [
    "df_clean.describe()"
   ]
  },
  {
   "cell_type": "code",
   "execution_count": 34,
   "metadata": {},
   "outputs": [
    {
     "data": {
      "text/plain": [
       "model\n",
       "ford f-150                  1655\n",
       "chevrolet silverado 1500    1257\n",
       "ram 1500                    1012\n",
       "chevrolet silverado          745\n",
       "jeep wrangler                628\n",
       "Name: count, dtype: int64"
      ]
     },
     "execution_count": 34,
     "metadata": {},
     "output_type": "execute_result"
    }
   ],
   "source": [
    "# Топ-5 самых частых моделей\n",
    "df_clean['model'].value_counts().head()"
   ]
  },
  {
   "cell_type": "code",
   "execution_count": 35,
   "metadata": {},
   "outputs": [
    {
     "name": "stdout",
     "output_type": "stream",
     "text": [
      "type\n",
      "bus            17924.937500\n",
      "truck          16683.409739\n",
      "pickup         16310.337750\n",
      "offroad        14402.440299\n",
      "convertible    14322.462094\n",
      "coupe          14042.070290\n",
      "SUV            11317.119760\n",
      "other          11058.394558\n",
      "van             9249.258258\n",
      "wagon           8844.068736\n",
      "mini-van        8259.362018\n",
      "sedan           7005.352050\n",
      "hatchback       6720.656947\n",
      "Name: price, dtype: float64\n"
     ]
    }
   ],
   "source": [
    "# Средняя цена по типу автомобиля\n",
    "print(df_clean.groupby('type')['price'].mean().sort_values(ascending=False))"
   ]
  },
  {
   "cell_type": "code",
   "execution_count": 36,
   "metadata": {},
   "outputs": [
    {
     "data": {
      "text/html": [
       "<div>\n",
       "<style scoped>\n",
       "    .dataframe tbody tr th:only-of-type {\n",
       "        vertical-align: middle;\n",
       "    }\n",
       "\n",
       "    .dataframe tbody tr th {\n",
       "        vertical-align: top;\n",
       "    }\n",
       "\n",
       "    .dataframe thead th {\n",
       "        text-align: right;\n",
       "    }\n",
       "</style>\n",
       "<table border=\"1\" class=\"dataframe\">\n",
       "  <thead>\n",
       "    <tr style=\"text-align: right;\">\n",
       "      <th></th>\n",
       "      <th>price</th>\n",
       "      <th>model_year</th>\n",
       "      <th>model</th>\n",
       "      <th>condition</th>\n",
       "      <th>cylinders</th>\n",
       "      <th>fuel</th>\n",
       "      <th>odometer</th>\n",
       "      <th>transmission</th>\n",
       "      <th>type</th>\n",
       "      <th>paint_color</th>\n",
       "      <th>date_posted</th>\n",
       "      <th>days_listed</th>\n",
       "    </tr>\n",
       "  </thead>\n",
       "  <tbody>\n",
       "    <tr>\n",
       "      <th>2</th>\n",
       "      <td>5500</td>\n",
       "      <td>2013</td>\n",
       "      <td>hyundai sonata</td>\n",
       "      <td>like new</td>\n",
       "      <td>4.0</td>\n",
       "      <td>gas</td>\n",
       "      <td>110000.0</td>\n",
       "      <td>automatic</td>\n",
       "      <td>sedan</td>\n",
       "      <td>red</td>\n",
       "      <td>2019-02-07</td>\n",
       "      <td>79</td>\n",
       "    </tr>\n",
       "    <tr>\n",
       "      <th>4</th>\n",
       "      <td>14900</td>\n",
       "      <td>2017</td>\n",
       "      <td>chrysler 200</td>\n",
       "      <td>excellent</td>\n",
       "      <td>4.0</td>\n",
       "      <td>gas</td>\n",
       "      <td>80903.0</td>\n",
       "      <td>automatic</td>\n",
       "      <td>sedan</td>\n",
       "      <td>black</td>\n",
       "      <td>2019-04-02</td>\n",
       "      <td>28</td>\n",
       "    </tr>\n",
       "    <tr>\n",
       "      <th>5</th>\n",
       "      <td>14990</td>\n",
       "      <td>2014</td>\n",
       "      <td>chrysler 300</td>\n",
       "      <td>excellent</td>\n",
       "      <td>6.0</td>\n",
       "      <td>gas</td>\n",
       "      <td>57954.0</td>\n",
       "      <td>automatic</td>\n",
       "      <td>sedan</td>\n",
       "      <td>black</td>\n",
       "      <td>2018-06-20</td>\n",
       "      <td>15</td>\n",
       "    </tr>\n",
       "    <tr>\n",
       "      <th>6</th>\n",
       "      <td>12990</td>\n",
       "      <td>2015</td>\n",
       "      <td>toyota camry</td>\n",
       "      <td>excellent</td>\n",
       "      <td>4.0</td>\n",
       "      <td>gas</td>\n",
       "      <td>79212.0</td>\n",
       "      <td>automatic</td>\n",
       "      <td>sedan</td>\n",
       "      <td>white</td>\n",
       "      <td>2018-12-27</td>\n",
       "      <td>73</td>\n",
       "    </tr>\n",
       "    <tr>\n",
       "      <th>7</th>\n",
       "      <td>15990</td>\n",
       "      <td>2013</td>\n",
       "      <td>honda pilot</td>\n",
       "      <td>excellent</td>\n",
       "      <td>6.0</td>\n",
       "      <td>gas</td>\n",
       "      <td>109473.0</td>\n",
       "      <td>automatic</td>\n",
       "      <td>SUV</td>\n",
       "      <td>black</td>\n",
       "      <td>2019-01-07</td>\n",
       "      <td>68</td>\n",
       "    </tr>\n",
       "  </tbody>\n",
       "</table>\n",
       "</div>"
      ],
      "text/plain": [
       "   price  model_year           model  condition  cylinders fuel  odometer  \\\n",
       "2   5500        2013  hyundai sonata   like new        4.0  gas  110000.0   \n",
       "4  14900        2017    chrysler 200  excellent        4.0  gas   80903.0   \n",
       "5  14990        2014    chrysler 300  excellent        6.0  gas   57954.0   \n",
       "6  12990        2015    toyota camry  excellent        4.0  gas   79212.0   \n",
       "7  15990        2013     honda pilot  excellent        6.0  gas  109473.0   \n",
       "\n",
       "  transmission   type paint_color date_posted  days_listed  \n",
       "2    automatic  sedan         red  2019-02-07           79  \n",
       "4    automatic  sedan       black  2019-04-02           28  \n",
       "5    automatic  sedan       black  2018-06-20           15  \n",
       "6    automatic  sedan       white  2018-12-27           73  \n",
       "7    automatic    SUV       black  2019-01-07           68  "
      ]
     },
     "execution_count": 36,
     "metadata": {},
     "output_type": "execute_result"
    }
   ],
   "source": [
    "df_clean.head()"
   ]
  },
  {
   "cell_type": "markdown",
   "metadata": {},
   "source": [
    "#### Filtering"
   ]
  },
  {
   "cell_type": "code",
   "execution_count": 47,
   "metadata": {},
   "outputs": [
    {
     "data": {
      "text/plain": [
       "(5121, 15)"
      ]
     },
     "execution_count": 47,
     "metadata": {},
     "output_type": "execute_result"
    }
   ],
   "source": [
    "expensive_cars = df_clean[df_clean[\"price\"] > 20000]\n",
    "expensive_cars.shape"
   ]
  },
  {
   "cell_type": "code",
   "execution_count": 38,
   "metadata": {},
   "outputs": [
    {
     "name": "stdout",
     "output_type": "stream",
     "text": [
      "                          model   price\n",
      "12504           nissan frontier  375000\n",
      "34389                ford f-150  189000\n",
      "33434                ford f-150  189000\n",
      "1309                 ford f-150  189000\n",
      "27375                ford f-150  189000\n",
      "34206         gmc sierra 2500hd  175000\n",
      "24999                  ram 2500  140000\n",
      "29810        chevrolet suburban  123456\n",
      "45263  chevrolet silverado 1500  120000\n",
      "22833     ford f-250 super duty  115000\n",
      "4113                 ford f-150   90577\n",
      "37904      ford f350 super duty   90000\n",
      "12485             honda odyssey   78000\n",
      "50664         cadillac escalade   76995\n",
      "2790         chevrolet corvette   76000\n"
     ]
    }
   ],
   "source": [
    "# Сортировка по цене (от высокой к низкой)\n",
    "expensive_cars_sorted = expensive_cars.sort_values('price', ascending=False)\n",
    "print(expensive_cars_sorted[['model', 'price']].head(15))"
   ]
  },
  {
   "cell_type": "code",
   "execution_count": 39,
   "metadata": {},
   "outputs": [
    {
     "name": "stdout",
     "output_type": "stream",
     "text": [
      "\n",
      "Уникальные значения в столбце 'condition':\n",
      "condition\n",
      "excellent    14361\n",
      "good         11701\n",
      "like new      2767\n",
      "fair           934\n",
      "new             88\n",
      "salvage         65\n",
      "Name: count, dtype: int64\n",
      "\n",
      "Уникальные значения в столбце 'fuel':\n",
      "fuel\n",
      "gas         27481\n",
      "diesel       2137\n",
      "hybrid        240\n",
      "other          56\n",
      "electric        2\n",
      "Name: count, dtype: int64\n",
      "\n",
      "Уникальные значения в столбце 'transmission':\n",
      "transmission\n",
      "automatic    27263\n",
      "manual        1631\n",
      "other         1022\n",
      "Name: count, dtype: int64\n",
      "\n",
      "Уникальные значения в столбце 'type':\n",
      "type\n",
      "truck          7290\n",
      "SUV            7181\n",
      "sedan          6999\n",
      "pickup         4000\n",
      "coupe          1380\n",
      "wagon           902\n",
      "mini-van        674\n",
      "hatchback       583\n",
      "van             333\n",
      "convertible     277\n",
      "other           147\n",
      "offroad         134\n",
      "bus              16\n",
      "Name: count, dtype: int64\n",
      "\n",
      "Уникальные значения в столбце 'paint_color':\n",
      "paint_color\n",
      "white     7140\n",
      "black     5432\n",
      "silver    4408\n",
      "grey      3563\n",
      "red       3179\n",
      "blue      3152\n",
      "green      950\n",
      "brown      852\n",
      "custom     825\n",
      "yellow     182\n",
      "orange     162\n",
      "purple      71\n",
      "Name: count, dtype: int64\n"
     ]
    }
   ],
   "source": [
    "# Подсчет уникальных значений в категориальных столбцах\n",
    "for col in ['condition', 'fuel', 'transmission', 'type', 'paint_color']:\n",
    "    print(f\"\\nУникальные значения в столбце '{col}':\")\n",
    "    print(df_clean[col].value_counts())"
   ]
  },
  {
   "cell_type": "code",
   "execution_count": 40,
   "metadata": {},
   "outputs": [
    {
     "name": "stdout",
     "output_type": "stream",
     "text": [
      "\n",
      "Корреляционная матрица:\n",
      "                price  model_year  odometer  days_listed\n",
      "price        1.000000    0.430031 -0.418083     0.002341\n",
      "model_year   0.430031    1.000000 -0.472805    -0.004062\n",
      "odometer    -0.418083   -0.472805  1.000000     0.005526\n",
      "days_listed  0.002341   -0.004062  0.005526     1.000000\n"
     ]
    }
   ],
   "source": [
    "# Корреляция между числовыми столбцами\n",
    "correlation = df_clean[['price', 'model_year', 'odometer', 'days_listed']].corr()\n",
    "\n",
    "print(\"\\nКорреляционная матрица:\")\n",
    "print(correlation)"
   ]
  },
  {
   "cell_type": "code",
   "execution_count": 41,
   "metadata": {},
   "outputs": [
    {
     "name": "stdout",
     "output_type": "stream",
     "text": [
      "\n",
      "Средняя цена по году выпуска:\n",
      "model_year\n",
      "1908    12995.000000\n",
      "1936     5000.000000\n",
      "1948    21000.000000\n",
      "1955    23900.000000\n",
      "1958    35000.000000\n",
      "            ...     \n",
      "2015    18195.430029\n",
      "2016    19691.361262\n",
      "2017    21096.704950\n",
      "2018    24817.915061\n",
      "2019    25740.365546\n",
      "Name: price, Length: 65, dtype: float64\n"
     ]
    }
   ],
   "source": [
    "# Группировка по году выпуска и расчет средней цены\n",
    "year_price = df_clean.groupby('model_year')['price'].mean().sort_index()\n",
    "print(\"\\nСредняя цена по году выпуска:\")\n",
    "print(year_price)"
   ]
  },
  {
   "cell_type": "code",
   "execution_count": 42,
   "metadata": {},
   "outputs": [
    {
     "name": "stdout",
     "output_type": "stream",
     "text": [
      "\n",
      "Количество объявлений по месяцам:\n",
      "month_posted\n",
      "2018-05    2569\n",
      "2018-06    2489\n",
      "2018-07    2578\n",
      "2018-08    2602\n",
      "2018-09    2598\n",
      "2018-10    2716\n",
      "2018-11    2538\n",
      "2018-12    2637\n",
      "2019-01    2535\n",
      "2019-02    2311\n",
      "2019-03    2697\n",
      "2019-04    1646\n",
      "Freq: M, Name: count, dtype: int64\n",
      "\n",
      "Средняя цена по месяцам:\n",
      "month_posted\n",
      "2018-05    12354.541456\n",
      "2018-06    11857.104058\n",
      "2018-07    12276.624903\n",
      "2018-08    12594.227133\n",
      "2018-09    12229.697460\n",
      "2018-10    11702.660530\n",
      "2018-11    12049.389283\n",
      "2018-12    12197.221843\n",
      "2019-01    12127.782643\n",
      "2019-02    12404.138035\n",
      "2019-03    12357.996663\n",
      "2019-04    12259.792831\n",
      "Freq: M, Name: price, dtype: float64\n"
     ]
    }
   ],
   "source": [
    "# Извлечение месяца и года из даты публикации\n",
    "df_clean['month_posted'] = df_clean['date_posted'].dt.to_period('M')\n",
    "\n",
    "# Анализ количества объявлений по месяцам\n",
    "monthly_counts = df_clean['month_posted'].value_counts().sort_index()\n",
    "print(\"\\nКоличество объявлений по месяцам:\")\n",
    "print(monthly_counts)\n",
    "\n",
    "# Средняя цена по месяцам\n",
    "monthly_avg_price = df_clean.groupby('month_posted')['price'].mean()\n",
    "print(\"\\nСредняя цена по месяцам:\")\n",
    "print(monthly_avg_price)"
   ]
  },
  {
   "cell_type": "code",
   "execution_count": 43,
   "metadata": {},
   "outputs": [
    {
     "name": "stdout",
     "output_type": "stream",
     "text": [
      "\n",
      "Средний возраст автомобиля по типу:\n",
      "type\n",
      "convertible    16.476534\n",
      "offroad        13.708955\n",
      "coupe          11.542029\n",
      "other          11.374150\n",
      "bus            10.312500\n",
      "pickup          9.547250\n",
      "wagon           9.381375\n",
      "van             9.327327\n",
      "truck           9.322222\n",
      "SUV             9.144687\n",
      "hatchback       9.046312\n",
      "mini-van        9.037092\n",
      "sedan           8.274182\n",
      "Name: age, dtype: float64\n",
      "\n",
      "Средняя цена за милю по типу автомобиля:\n",
      "type\n",
      "SUV                 inf\n",
      "convertible         inf\n",
      "coupe               inf\n",
      "hatchback           inf\n",
      "pickup              inf\n",
      "van                 inf\n",
      "other               inf\n",
      "truck               inf\n",
      "sedan               inf\n",
      "wagon               inf\n",
      "offroad        6.067921\n",
      "bus            0.870837\n",
      "mini-van       0.533630\n",
      "Name: price_per_mile, dtype: float64\n"
     ]
    }
   ],
   "source": [
    "# Создание признака 'age' (возраст автомобиля)\n",
    "current_year = df_clean['date_posted'].dt.year.max()\n",
    "df_clean['age'] = current_year - df_clean['model_year']\n",
    "\n",
    "# Создание признака 'price_per_mile'\n",
    "df_clean['price_per_mile'] = df_clean['price'] / df_clean['odometer']\n",
    "\n",
    "# Анализ новых признаков\n",
    "print(\"\\nСредний возраст автомобиля по типу:\")\n",
    "print(df_clean.groupby('type')['age'].mean().sort_values(ascending=False))\n",
    "\n",
    "print(\"\\nСредняя цена за милю по типу автомобиля:\")\n",
    "print(df_clean.groupby('type')['price_per_mile'].mean().sort_values(ascending=False))"
   ]
  },
  {
   "cell_type": "code",
   "execution_count": 44,
   "metadata": {},
   "outputs": [
    {
     "name": "stdout",
     "output_type": "stream",
     "text": [
      "\n",
      "Количество SUV с полным приводом и пробегом менее 100000 миль: 2734\n",
      "Примеры таких автомобилей:\n",
      "                          model  price  odometer\n",
      "40            chevrolet equinox  11499   54772.0\n",
      "73   jeep grand cherokee laredo   1900     207.0\n",
      "93                  honda pilot  32000   32104.0\n",
      "127                   ford edge  10999   98193.0\n",
      "148             ford expedition   6995   92546.0\n",
      "\n",
      "Самые дешевые автомобили каждого типа в хорошем состоянии:\n",
      "              type                    model  price\n",
      "3808           SUV          chevrolet tahoe      1\n",
      "6780           bus            ford explorer   4995\n",
      "24550  convertible             ford mustang   1600\n",
      "11444        coupe              honda civic      1\n",
      "6307     hatchback           subaru outback     36\n",
      "35219     mini-van            honda odyssey    600\n",
      "46655      offroad      chevrolet silverado     15\n",
      "46075        other              ford taurus   1000\n",
      "50393       pickup        gmc sierra 2500hd      1\n",
      "40939        sedan             toyota camry      1\n",
      "35110        truck                ford f350      1\n",
      "4549           van  chrysler town & country    750\n",
      "31728        wagon        volkswagen passat    700\n"
     ]
    }
   ],
   "source": [
    "# Найти все SUV с пробегом менее 100000 миль\n",
    "suv = df_clean[(df_clean['type'] == 'SUV') & \n",
    "                   (df_clean['odometer'] < 100000)]\n",
    "\n",
    "print(\"\\nКоличество SUV с полным приводом и пробегом менее 100000 миль:\", len(suv))\n",
    "print(\"Примеры таких автомобилей:\")\n",
    "print(suv[['model', 'price', 'odometer']].head())\n",
    "\n",
    "# Найти самые дешевые автомобили каждого типа в хорошем состоянии\n",
    "cheapest_by_type = df_clean[df_clean['condition'] == 'good'].groupby('type')['price'].idxmin()\n",
    "cheapest_cars = df_clean.loc[cheapest_by_type]\n",
    "\n",
    "print(\"\\nСамые дешевые автомобили каждого типа в хорошем состоянии:\")\n",
    "print(cheapest_cars[['type', 'model', 'price']])"
   ]
  },
  {
   "cell_type": "code",
   "execution_count": 45,
   "metadata": {},
   "outputs": [
    {
     "name": "stdout",
     "output_type": "stream",
     "text": [
      "\n",
      "Количество выбросов по цене: 965\n",
      "Примеры выбросов по цене:\n",
      "                             model  price\n",
      "124  chevrolet silverado 1500 crew  37000\n",
      "188           ford f350 super duty  52000\n",
      "285                       ram 3500  41999\n",
      "286                       ram 2500  35999\n",
      "434        jeep wrangler unlimited  47995\n",
      "\n",
      "Количество выбросов по пробегу: 320\n",
      "Примеры выбросов по пробегу:\n",
      "              model  odometer\n",
      "33   subaru outback  300000.0\n",
      "267       ford f150  296000.0\n",
      "439       ford f150  285000.0\n",
      "655     honda pilot  288000.0\n",
      "713       ford f350  304515.0\n"
     ]
    }
   ],
   "source": [
    "import numpy as np\n",
    "\n",
    "def detect_outliers(df, column):\n",
    "    Q1 = df[column].quantile(0.25)\n",
    "    Q3 = df[column].quantile(0.75)\n",
    "    IQR = Q3 - Q1\n",
    "    lower_bound = Q1 - 1.5 * IQR\n",
    "    upper_bound = Q3 + 1.5 * IQR\n",
    "    outliers = df[(df[column] < lower_bound) | (df[column] > upper_bound)]\n",
    "    return outliers\n",
    "\n",
    "price_outliers = detect_outliers(df_clean, 'price')\n",
    "print(\"\\nКоличество выбросов по цене:\", len(price_outliers))\n",
    "print(\"Примеры выбросов по цене:\")\n",
    "print(price_outliers[['model', 'price']].head())\n",
    "\n",
    "odometer_outliers = detect_outliers(df_clean, 'odometer')\n",
    "print(\"\\nКоличество выбросов по пробегу:\", len(odometer_outliers))\n",
    "print(\"Примеры выбросов по пробегу:\")\n",
    "print(odometer_outliers[['model', 'odometer']].head())"
   ]
  },
  {
   "cell_type": "code",
   "execution_count": null,
   "metadata": {},
   "outputs": [],
   "source": []
  }
 ],
 "metadata": {
  "kernelspec": {
   "display_name": "Python 3",
   "language": "python",
   "name": "python3"
  },
  "language_info": {
   "codemirror_mode": {
    "name": "ipython",
    "version": 3
   },
   "file_extension": ".py",
   "mimetype": "text/x-python",
   "name": "python",
   "nbconvert_exporter": "python",
   "pygments_lexer": "ipython3",
   "version": "3.13.0"
  }
 },
 "nbformat": 4,
 "nbformat_minor": 2
}
