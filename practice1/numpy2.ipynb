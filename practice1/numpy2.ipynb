{
 "cells": [
  {
   "cell_type": "code",
   "execution_count": 1,
   "id": "c0f2e4d1",
   "metadata": {},
   "outputs": [],
   "source": [
    "import numpy as np\n",
    "import pandas as pd"
   ]
  },
  {
   "cell_type": "code",
   "execution_count": 10,
   "id": "886c4435",
   "metadata": {},
   "outputs": [
    {
     "name": "stdout",
     "output_type": "stream",
     "text": [
      "arr1: [1 2 3]\n",
      "arr2:\n",
      " [[1 2 3]\n",
      " [4 5 6]]\n",
      "arr2.shape: (2, 3)\n"
     ]
    }
   ],
   "source": [
    "l=[1,2,3]\n",
    "arr1 = np.array(l)\n",
    "arr2 = np.array([[1, 2, 3], [4, 5, 6]])\n",
    "print(\"arr1:\", arr1)\n",
    "print(\"arr2:\\n\", arr2)\n",
    "print(\"arr2.shape:\", arr2.shape)"
   ]
  },
  {
   "cell_type": "code",
   "execution_count": 12,
   "id": "89c47716",
   "metadata": {},
   "outputs": [
    {
     "name": "stdout",
     "output_type": "stream",
     "text": [
      "len: 2 \n",
      "size: 6 \n",
      "dimension: 2 \n",
      "shape: (2, 3)\n"
     ]
    }
   ],
   "source": [
    "print(\"len:\", len(arr2),\n",
    "      \"\\nsize:\", arr2.size,\n",
    "      \"\\ndimension:\", arr2.ndim,\n",
    "      \"\\nshape:\", arr2.shape)"
   ]
  },
  {
   "cell_type": "code",
   "execution_count": 17,
   "id": "b6ab9944",
   "metadata": {},
   "outputs": [
    {
     "name": "stdout",
     "output_type": "stream",
     "text": [
      "zeros: [[0. 0. 0.]\n",
      " [0. 0. 0.]]\n",
      "ones:\n",
      " [[1. 1. 1. 1.]\n",
      " [1. 1. 1. 1.]\n",
      " [1. 1. 1. 1.]]\n"
     ]
    }
   ],
   "source": [
    "zeros = np.zeros((2,3))\n",
    "ones= np.ones((3,4))\n",
    "print(\"zeros:\",zeros)\n",
    "print(\"ones:\\n\", ones)"
   ]
  },
  {
   "cell_type": "code",
   "execution_count": 19,
   "id": "0319823f",
   "metadata": {},
   "outputs": [
    {
     "name": "stdout",
     "output_type": "stream",
     "text": [
      "[0 3 6 9]\n",
      "[[0.75307296 0.0345254  0.37398926]\n",
      " [0.1338147  0.60513037 0.87759804]]\n"
     ]
    }
   ],
   "source": [
    "range_arr = np.arange(0,10,3)\n",
    "random = np.random.rand(2,3)\n",
    "print(range_arr)\n",
    "print(random)\n"
   ]
  },
  {
   "cell_type": "code",
   "execution_count": null,
   "id": "ed58a72b",
   "metadata": {},
   "outputs": [],
   "source": []
  }
 ],
 "metadata": {
  "kernelspec": {
   "display_name": "Python 3",
   "language": "python",
   "name": "python3"
  },
  "language_info": {
   "codemirror_mode": {
    "name": "ipython",
    "version": 3
   },
   "file_extension": ".py",
   "mimetype": "text/x-python",
   "name": "python",
   "nbconvert_exporter": "python",
   "pygments_lexer": "ipython3",
   "version": "3.13.0"
  }
 },
 "nbformat": 4,
 "nbformat_minor": 5
}
